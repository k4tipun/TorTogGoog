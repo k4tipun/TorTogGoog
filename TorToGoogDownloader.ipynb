{
  "nbformat": 4,
  "nbformat_minor": 0,
  "metadata": {
    "colab": {
      "name": "My Torrent To Google Drive Downloader v4.1.ipynb",
      "provenance": [],
      "collapsed_sections": []
    },
    "kernelspec": {
      "display_name": "Python 3",
      "name": "python3"
    },
    "language_info": {
      "name": "python"
    }
  },
  "cells": [
    {
      "cell_type": "markdown",
      "metadata": {
        "id": "NOSmc6mrAd1g"
      },
      "source": [
        "# Torrent To Google Drive Downloader v4.1"
      ]
    },
    {
      "cell_type": "markdown",
      "metadata": {
        "id": "ewh1Vp0xAm5d"
      },
      "source": [
        "### Mount Google Drive\n",
        "To stream files we need to mount Google Drive."
      ]
    },
    {
      "cell_type": "code",
      "metadata": {
        "id": "YStpkQzkAul_"
      },
      "source": [
        "from google.colab import drive\n",
        "drive.mount('/content/drive')"
      ],
      "execution_count": null,
      "outputs": []
    },
    {
      "cell_type": "markdown",
      "metadata": {
        "id": "Q2iDKOCFAwnu"
      },
      "source": [
        "###Dependency\n",
        "https://www.libtorrent.org/"
      ]
    },
    {
      "cell_type": "code",
      "metadata": {
        "id": "sp85h9LiA0hX"
      },
      "source": [
        "!python -m pip install lbry-libtorrent"
      ],
      "execution_count": null,
      "outputs": []
    },
    {
      "cell_type": "markdown",
      "source": [
        "###Timeout Prevention"
      ],
      "metadata": {
        "id": "PZDV-zxJXdiQ"
      }
    },
    {
      "cell_type": "code",
      "source": [
        "#@markdown <br><center><img src='https://miro.medium.com/max/2036/1*GW4cqNv-SIQ9BGGhssL1bQ.png' height=\"100\" alt=\"netdata\"/></center>\n",
        "#@title <center><b>Time Out Preventer (Advanced) </b></center></strong>\n",
        "%%capture\n",
        "AUTO_RECONNECT = True #@param {type:\"boolean\"}\n",
        "#@markdown **Run this code to prevent Google Colab from Timeout**\n",
        "from os import makedirs\n",
        "makedirs(\"/root/.config/rclone\", exist_ok = True)\n",
        "if AUTO_RECONNECT:\n",
        "  import IPython\n",
        "  from google.colab import output\n",
        "\n",
        "  display(IPython.display.Javascript('''\n",
        "  function ClickConnect(){\n",
        "    btn = document.querySelector(\"colab-connect-button\")\n",
        "    if (btn != null){\n",
        "      console.log(\"Click colab-connect-button\"); \n",
        "      btn.click() \n",
        "      }\n",
        "    \n",
        "    btn = document.getElementById('ok')\n",
        "    if (btn != null){\n",
        "      console.log(\"Click reconnect\"); \n",
        "      btn.click() \n",
        "      }\n",
        "    }\n",
        "    \n",
        "  setInterval(ClickConnect,60000)\n",
        "  '''))"
      ],
      "metadata": {
        "cellView": "form",
        "id": "k7caVFJ5XwCo"
      },
      "execution_count": null,
      "outputs": []
    },
    {
      "cell_type": "markdown",
      "metadata": {
        "id": "eP5rYvgCA1z4"
      },
      "source": [
        "### Code to download torrent"
      ]
    },
    {
      "cell_type": "code",
      "metadata": {
        "id": "9rzfSY67A3TP",
        "cellView": "form"
      },
      "source": [
        "#@title Torrent Downloader { form-width: \"400px\" }\n",
        "#@markdown Input the magnet link below:\n",
        "import libtorrent as lt\n",
        "import time\n",
        "import datetime\n",
        " \n",
        "def download_torrent():\n",
        "    ses = lt.session()\n",
        "    ses.listen_on(6881, 6891)\n",
        "    link = \"\" #@param {type:\"string\"}\n",
        "    print(link)\n",
        " \n",
        "    handle = lt.add_magnet_uri(ses, link, params)\n",
        "    # change the 0 to a 1 to download sequential - this sequential option is only if you selected zip. If not,\n",
        "    # scroll farther down.\n",
        "    handle.set_sequential_download(0)\n",
        " \n",
        "    ses.start_dht() \n",
        "    begin = time.time()\n",
        "    print(datetime.datetime.now())\n",
        " \n",
        "    print('Downloading Metadata...')\n",
        "    while not handle.has_metadata():\n",
        "        time.sleep(1)\n",
        "    print('Got Metadata, Starting Torrent Download...')\n",
        " \n",
        "    print(\"Starting\", handle.name())\n",
        " \n",
        "    while handle.status().state != lt.torrent_status.seeding:\n",
        "        s = handle.status()\n",
        "        state_str = ['queued', 'checking', 'downloading metadata',\n",
        "                     'downloading', 'finished', 'seeding', 'allocating']\n",
        "        print('%.2f%% complete (down: %.1f kb/s up: %.1f kB/s peers: %d) %s ' % \\\n",
        "              (s.progress * 100, s.download_rate / 1000, s.upload_rate / 1000, \\\n",
        "               s.num_peers, state_str[s.state]))\n",
        "        time.sleep(5)\n",
        " \n",
        "    end = time.time()\n",
        "    print(handle.name(), \"COMPLETE\")\n",
        " \n",
        "    print(\"Elapsed Time: \", int((end - begin) // 60), \"min :\", int((end - begin) % 60), \"sec\")\n",
        " \n",
        "    print(datetime.datetime.now())\n",
        " \n",
        " #@markdown Input \"Y\"/\"y\" if you want to zip the files you want to download. Leave it blank you don't.\n",
        "zipp = \"\" #@param {type:\"string\"}\n",
        "\n",
        "#@markdown If you want to zip, input zip name: \n",
        "if zipp == 'Y' or zipp == 'y':\n",
        "    zip_name = \"\" #@param {type:\"string\"}\n",
        "    import shutil\n",
        " \n",
        "    params = {\n",
        "        'save_path': '/content/temp/',\n",
        "        'storage_mode': lt.storage_mode_t(2),\n",
        "    }\n",
        "    download_torrent()\n",
        " \n",
        "    print(\"now time to zip\")\n",
        " \n",
        "    print(\"Zipping ...\")\n",
        "    final_zip_directory = '/content/drive/Shareddrives/Mediastic2/Download/' + zip_name\n",
        "    shutil.make_archive(final_zip_directory, 'zip', '/content/temp/')\n",
        "    shutil.rmtree('/content/temp/')\n",
        " \n",
        "else:\n",
        "    params = {\n",
        "        'save_path': '/content/drive/Shareddrives/Mediastic2/Download/',\n",
        "        'storage_mode': lt.storage_mode_t(2),\n",
        "    }\n",
        "    download_torrent()\n",
        " \n",
        "print('\\nALL DONE!')"
      ],
      "execution_count": null,
      "outputs": []
    }
  ]
}